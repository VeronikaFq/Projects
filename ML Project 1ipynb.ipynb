{
 "cells": [
  {
   "cell_type": "markdown",
   "id": "81c0bc5a",
   "metadata": {},
   "source": [
    "### Installing and importing the necessary libraries"
   ]
  },
  {
   "cell_type": "code",
   "execution_count": 3,
   "id": "3547d527",
   "metadata": {},
   "outputs": [
    {
     "name": "stdout",
     "output_type": "stream",
     "text": [
      "Requirement already satisfied: missingno in /Users/veronika/opt/anaconda3/lib/python3.9/site-packages (0.5.2)\n",
      "Requirement already satisfied: seaborn in /Users/veronika/opt/anaconda3/lib/python3.9/site-packages (from missingno) (0.11.2)\n",
      "Requirement already satisfied: numpy in /Users/veronika/opt/anaconda3/lib/python3.9/site-packages (from missingno) (1.21.5)\n",
      "Requirement already satisfied: scipy in /Users/veronika/opt/anaconda3/lib/python3.9/site-packages (from missingno) (1.9.1)\n",
      "Requirement already satisfied: matplotlib in /Users/veronika/opt/anaconda3/lib/python3.9/site-packages (from missingno) (3.5.2)\n",
      "Requirement already satisfied: pillow>=6.2.0 in /Users/veronika/opt/anaconda3/lib/python3.9/site-packages (from matplotlib->missingno) (9.2.0)\n",
      "Requirement already satisfied: kiwisolver>=1.0.1 in /Users/veronika/opt/anaconda3/lib/python3.9/site-packages (from matplotlib->missingno) (1.4.2)\n",
      "Requirement already satisfied: fonttools>=4.22.0 in /Users/veronika/opt/anaconda3/lib/python3.9/site-packages (from matplotlib->missingno) (4.25.0)\n",
      "Requirement already satisfied: python-dateutil>=2.7 in /Users/veronika/opt/anaconda3/lib/python3.9/site-packages (from matplotlib->missingno) (2.8.2)\n",
      "Requirement already satisfied: pyparsing>=2.2.1 in /Users/veronika/opt/anaconda3/lib/python3.9/site-packages (from matplotlib->missingno) (3.0.9)\n",
      "Requirement already satisfied: cycler>=0.10 in /Users/veronika/opt/anaconda3/lib/python3.9/site-packages (from matplotlib->missingno) (0.11.0)\n",
      "Requirement already satisfied: packaging>=20.0 in /Users/veronika/opt/anaconda3/lib/python3.9/site-packages (from matplotlib->missingno) (21.3)\n",
      "Requirement already satisfied: pandas>=0.23 in /Users/veronika/opt/anaconda3/lib/python3.9/site-packages (from seaborn->missingno) (1.4.4)\n",
      "Requirement already satisfied: pytz>=2020.1 in /Users/veronika/opt/anaconda3/lib/python3.9/site-packages (from pandas>=0.23->seaborn->missingno) (2022.1)\n",
      "Requirement already satisfied: six>=1.5 in /Users/veronika/opt/anaconda3/lib/python3.9/site-packages (from python-dateutil>=2.7->matplotlib->missingno) (1.16.0)\n",
      "Note: you may need to restart the kernel to use updated packages.\n"
     ]
    }
   ],
   "source": [
    "pip install missingno"
   ]
  },
  {
   "cell_type": "code",
   "execution_count": 1,
   "id": "83b3c770",
   "metadata": {},
   "outputs": [],
   "source": [
    "import numpy as np\n",
    "import pandas as pd\n",
    "import matplotlib.pyplot as plt\n",
    "\n",
    "\n",
    "%matplotlib inline"
   ]
  },
  {
   "cell_type": "markdown",
   "id": "14780593",
   "metadata": {},
   "source": [
    "### Loading a template for the final project"
   ]
  },
  {
   "cell_type": "code",
   "execution_count": 2,
   "id": "4dbee50e",
   "metadata": {},
   "outputs": [
    {
     "data": {
      "text/html": [
       "<div>\n",
       "<style scoped>\n",
       "    .dataframe tbody tr th:only-of-type {\n",
       "        vertical-align: middle;\n",
       "    }\n",
       "\n",
       "    .dataframe tbody tr th {\n",
       "        vertical-align: top;\n",
       "    }\n",
       "\n",
       "    .dataframe thead th {\n",
       "        text-align: right;\n",
       "    }\n",
       "</style>\n",
       "<table border=\"1\" class=\"dataframe\">\n",
       "  <thead>\n",
       "    <tr style=\"text-align: right;\">\n",
       "      <th></th>\n",
       "      <th>imdb_title_id</th>\n",
       "      <th>title</th>\n",
       "      <th>original_title</th>\n",
       "      <th>year</th>\n",
       "      <th>date_published</th>\n",
       "      <th>genre</th>\n",
       "      <th>duration</th>\n",
       "      <th>country</th>\n",
       "      <th>language</th>\n",
       "      <th>director</th>\n",
       "      <th>...</th>\n",
       "      <th>actors</th>\n",
       "      <th>description</th>\n",
       "      <th>avg_vote</th>\n",
       "      <th>votes</th>\n",
       "      <th>budget</th>\n",
       "      <th>usa_gross_income</th>\n",
       "      <th>worlwide_gross_income</th>\n",
       "      <th>metascore</th>\n",
       "      <th>reviews_from_users</th>\n",
       "      <th>reviews_from_critics</th>\n",
       "    </tr>\n",
       "  </thead>\n",
       "  <tbody>\n",
       "    <tr>\n",
       "      <th>0</th>\n",
       "      <td>tt0000574</td>\n",
       "      <td>The Story of the Kelly Gang</td>\n",
       "      <td>The Story of the Kelly Gang</td>\n",
       "      <td>1906</td>\n",
       "      <td>1906-12-26</td>\n",
       "      <td>Biography, Crime, Drama</td>\n",
       "      <td>70</td>\n",
       "      <td>Australia</td>\n",
       "      <td>NaN</td>\n",
       "      <td>Charles Tait</td>\n",
       "      <td>...</td>\n",
       "      <td>Elizabeth Tait, John Tait, Norman Campbell, Be...</td>\n",
       "      <td>True story of notorious Australian outlaw Ned ...</td>\n",
       "      <td>6.1</td>\n",
       "      <td>537</td>\n",
       "      <td>$ 2250</td>\n",
       "      <td>NaN</td>\n",
       "      <td>NaN</td>\n",
       "      <td>NaN</td>\n",
       "      <td>7.0</td>\n",
       "      <td>7.0</td>\n",
       "    </tr>\n",
       "    <tr>\n",
       "      <th>1</th>\n",
       "      <td>tt0001892</td>\n",
       "      <td>Den sorte drøm</td>\n",
       "      <td>Den sorte drøm</td>\n",
       "      <td>1911</td>\n",
       "      <td>1911-08-19</td>\n",
       "      <td>Drama</td>\n",
       "      <td>53</td>\n",
       "      <td>Germany, Denmark</td>\n",
       "      <td>NaN</td>\n",
       "      <td>Urban Gad</td>\n",
       "      <td>...</td>\n",
       "      <td>Asta Nielsen, Valdemar Psilander, Gunnar Helse...</td>\n",
       "      <td>Two men of high rank are both wooing the beaut...</td>\n",
       "      <td>5.9</td>\n",
       "      <td>171</td>\n",
       "      <td>NaN</td>\n",
       "      <td>NaN</td>\n",
       "      <td>NaN</td>\n",
       "      <td>NaN</td>\n",
       "      <td>4.0</td>\n",
       "      <td>2.0</td>\n",
       "    </tr>\n",
       "    <tr>\n",
       "      <th>2</th>\n",
       "      <td>tt0002101</td>\n",
       "      <td>Cleopatra</td>\n",
       "      <td>Cleopatra</td>\n",
       "      <td>1912</td>\n",
       "      <td>1912-11-13</td>\n",
       "      <td>Drama, History</td>\n",
       "      <td>100</td>\n",
       "      <td>USA</td>\n",
       "      <td>English</td>\n",
       "      <td>Charles L. Gaskill</td>\n",
       "      <td>...</td>\n",
       "      <td>Helen Gardner, Pearl Sindelar, Miss Fielding, ...</td>\n",
       "      <td>The fabled queen of Egypt's affair with Roman ...</td>\n",
       "      <td>5.2</td>\n",
       "      <td>420</td>\n",
       "      <td>$ 45000</td>\n",
       "      <td>NaN</td>\n",
       "      <td>NaN</td>\n",
       "      <td>NaN</td>\n",
       "      <td>24.0</td>\n",
       "      <td>3.0</td>\n",
       "    </tr>\n",
       "  </tbody>\n",
       "</table>\n",
       "<p>3 rows × 22 columns</p>\n",
       "</div>"
      ],
      "text/plain": [
       "  imdb_title_id                        title               original_title  \\\n",
       "0     tt0000574  The Story of the Kelly Gang  The Story of the Kelly Gang   \n",
       "1     tt0001892               Den sorte drøm               Den sorte drøm   \n",
       "2     tt0002101                    Cleopatra                    Cleopatra   \n",
       "\n",
       "   year date_published                    genre  duration           country  \\\n",
       "0  1906     1906-12-26  Biography, Crime, Drama        70         Australia   \n",
       "1  1911     1911-08-19                    Drama        53  Germany, Denmark   \n",
       "2  1912     1912-11-13           Drama, History       100               USA   \n",
       "\n",
       "  language            director  ...  \\\n",
       "0      NaN        Charles Tait  ...   \n",
       "1      NaN           Urban Gad  ...   \n",
       "2  English  Charles L. Gaskill  ...   \n",
       "\n",
       "                                              actors  \\\n",
       "0  Elizabeth Tait, John Tait, Norman Campbell, Be...   \n",
       "1  Asta Nielsen, Valdemar Psilander, Gunnar Helse...   \n",
       "2  Helen Gardner, Pearl Sindelar, Miss Fielding, ...   \n",
       "\n",
       "                                         description avg_vote votes   budget  \\\n",
       "0  True story of notorious Australian outlaw Ned ...      6.1   537   $ 2250   \n",
       "1  Two men of high rank are both wooing the beaut...      5.9   171      NaN   \n",
       "2  The fabled queen of Egypt's affair with Roman ...      5.2   420  $ 45000   \n",
       "\n",
       "   usa_gross_income worlwide_gross_income metascore reviews_from_users  \\\n",
       "0               NaN                   NaN       NaN                7.0   \n",
       "1               NaN                   NaN       NaN                4.0   \n",
       "2               NaN                   NaN       NaN               24.0   \n",
       "\n",
       "   reviews_from_critics  \n",
       "0                   7.0  \n",
       "1                   2.0  \n",
       "2                   3.0  \n",
       "\n",
       "[3 rows x 22 columns]"
      ]
     },
     "execution_count": 2,
     "metadata": {},
     "output_type": "execute_result"
    }
   ],
   "source": [
    "full_dataset = pd.read_csv('IMDb movies.csv')\n",
    "full_dataset.head(3)"
   ]
  },
  {
   "cell_type": "code",
   "execution_count": null,
   "id": "4b46de9b",
   "metadata": {},
   "outputs": [],
   "source": []
  },
  {
   "cell_type": "markdown",
   "id": "92bcba02",
   "metadata": {},
   "source": [
    "## Formalising the task and suggestion the evaluation criterion"
   ]
  },
  {
   "cell_type": "markdown",
   "id": "ce4ec6a4",
   "metadata": {},
   "source": [
    "First of all, let us explore which features are presented in the dataset and are there any features with null values:"
   ]
  },
  {
   "cell_type": "code",
   "execution_count": 3,
   "id": "007d59c3",
   "metadata": {},
   "outputs": [
    {
     "data": {
      "text/plain": [
       "imdb_title_id                0\n",
       "title                        0\n",
       "original_title               0\n",
       "year                         0\n",
       "date_published               0\n",
       "genre                        0\n",
       "duration                     0\n",
       "country                      5\n",
       "language                   439\n",
       "director                    24\n",
       "writer                     808\n",
       "production_company        2744\n",
       "actors                      30\n",
       "description               1993\n",
       "avg_vote                     0\n",
       "votes                        0\n",
       "budget                   43379\n",
       "usa_gross_income         48306\n",
       "worlwide_gross_income    41062\n",
       "metascore                51386\n",
       "reviews_from_users        4069\n",
       "reviews_from_critics      8229\n",
       "dtype: int64"
      ]
     },
     "execution_count": 3,
     "metadata": {},
     "output_type": "execute_result"
    }
   ],
   "source": [
    "full_dataset.isnull().sum()"
   ]
  },
  {
   "cell_type": "markdown",
   "id": "7c643f9b",
   "metadata": {},
   "source": [
    "### Choosing a target variable\n",
    "\n",
    "We should choose a target variable in order to measure success of each film in the data. There are different ways to measure the success of the film. \n",
    "\n",
    "For example, we could take income or budget, or evaluate the profit of the company, because more successful film will bring more money to the company, as more people would like to watch it. But there is a problem: all features, connected with income and budget consists lots of null values. So, focusing on these variables, we will not get a reliable result. \n",
    "\n",
    "There is another one option: we could measure the success choosing average vote as a target variable. Firstly, this feature does not include any null values. Secondly, this feature shows how different people evaluated the film. It is also an average indicator formed on a scale from 1 to 10 points. Therefore, the indicator allows us to compare films objectively. The better average vote is, the more people liked it, the more money company could earn on this film. \n",
    "\n",
    "But predicting exact average vote is quite a difficult task, because it depends on so many unpredictable factors. Therefore, it would much more better to divide average votes into categories, showing the success level of the film. We will use 3 categories:\n",
    "\n",
    "- high, if average vote eaquals to 7 and more;\n",
    "- middle, if average vote eaquals to 5 and more, but less than 7;\n",
    "- low, if average vote less than 5. \n",
    "\n",
    "The film-producing company can the success level to make their decision: if predicting shows that film belongs to midlle or high category, it means that film with a higher probability is successfull. Otherwise, film not as good."
   ]
  },
  {
   "cell_type": "markdown",
   "id": "0c1067b6",
   "metadata": {},
   "source": [
    "### Task to solve and metric \n",
    "\n",
    "We are going to solve classification task, because our goal is to determine which category each movie belongs to. \n",
    "\n",
    "Accuracy will be a metric for our classification task, because we want to estimate, how many of predictions are correct. Accuracy will work well with our dataset due to the fact that it is pretty balanced (having samples for all classes). "
   ]
  },
  {
   "cell_type": "code",
   "execution_count": 4,
   "id": "0bec2ce7",
   "metadata": {},
   "outputs": [
    {
     "data": {
      "text/plain": [
       "Text(0.5, 1.0, 'Distirbution of the target variable')"
      ]
     },
     "execution_count": 4,
     "metadata": {},
     "output_type": "execute_result"
    },
    {
     "data": {
      "image/png": "[encoded data removed]",
      "text/plain": [
       "<Figure size 640x480 with 1 Axes>"
      ]
     },
     "metadata": {},
     "output_type": "display_data"
    }
   ],
   "source": [
    "full_dataset['success_level'] = full_dataset['avg_vote']\n",
    "full_dataset['success_level'] = full_dataset['success_level'].apply(lambda x: 'high' if x>=7.0 else x)\n",
    "full_dataset['success_level'] = full_dataset['success_level'].apply(lambda x: 'middle' if type(x)==float and x>=5.0 and x<7.0 else x)\n",
    "full_dataset['success_level'] = full_dataset['success_level'].apply(lambda x: 'low' if type(x)==float and x<5.0 else x)\n",
    "\n",
    "full_dataset.success_level.value_counts().plot(kind='bar')\n",
    "plt.grid()\n",
    "plt.title('Distirbution of the target variable')"
   ]
  },
  {
   "cell_type": "markdown",
   "id": "efe1720e",
   "metadata": {},
   "source": [
    "## Explore and preprocess the data "
   ]
  },
  {
   "cell_type": "markdown",
   "id": "ab36df85",
   "metadata": {},
   "source": [
    "This is a list of features presented in the dataset:"
   ]
  },
  {
   "cell_type": "code",
   "execution_count": 5,
   "id": "ed6c2511",
   "metadata": {},
   "outputs": [
    {
     "name": "stdout",
     "output_type": "stream",
     "text": [
      "['imdb_title_id', 'title', 'original_title', 'year', 'date_published', 'genre', 'duration', 'country', 'language', 'director', 'writer', 'production_company', 'actors', 'description', 'avg_vote', 'votes', 'budget', 'usa_gross_income', 'worlwide_gross_income', 'metascore', 'reviews_from_users', 'reviews_from_critics', 'success_level']\n"
     ]
    }
   ],
   "source": [
    "print (list(full_dataset.columns))"
   ]
  },
  {
   "cell_type": "markdown",
   "id": "7e3b9ed9",
   "metadata": {},
   "source": [
    "The features 'title' and 'original title' are consists of similar information, so we can drop on of them. Also it is pretty difficult to compare different films by titles. We can assume that length of title can effect the attractiveness of the film for viewers. So, let us create new numerical feature 'title_length' and drop columns 'title' and 'original title'. "
   ]
  },
  {
   "cell_type": "code",
   "execution_count": 6,
   "id": "994783e9",
   "metadata": {},
   "outputs": [],
   "source": [
    "full_dataset['title_length'] = full_dataset['title'].apply(lambda x: len(x))"
   ]
  },
  {
   "cell_type": "markdown",
   "id": "61b7744d",
   "metadata": {},
   "source": [
    "We can also drop features: 'imdb_title_id', 'date_published', 'language', 'description'. These features do not have an important information which can influence the success level, or even if they have, this impact can not be easily evaluated. "
   ]
  },
  {
   "cell_type": "code",
   "execution_count": 7,
   "id": "f57d6e1d",
   "metadata": {},
   "outputs": [],
   "source": [
    "full_dataset = full_dataset.drop(['imdb_title_id', 'title', 'original_title', 'date_published',\n",
    "                                  'language', 'description'], axis=1)"
   ]
  },
  {
   "cell_type": "markdown",
   "id": "a74bbd9f",
   "metadata": {},
   "source": [
    "Then we will explore the column 'genre'. Firstly, let us see how many unique values there are:"
   ]
  },
  {
   "cell_type": "code",
   "execution_count": 8,
   "id": "4f07a70e",
   "metadata": {},
   "outputs": [
    {
     "data": {
      "text/plain": [
       "1202"
      ]
     },
     "execution_count": 8,
     "metadata": {},
     "output_type": "execute_result"
    }
   ],
   "source": [
    "len(full_dataset['genre'].unique())"
   ]
  },
  {
   "cell_type": "markdown",
   "id": "f71d6789",
   "metadata": {},
   "source": [
    "There are so many unique values due to the fact, that each value consists of few genres. We will extract only the fist one genre in order to have few categories for this feature. Moreover, only genres which repeated more than 500 times would be left. Other genres will be assigned to the category 'Other'. Then we can drop the column 'genre'."
   ]
  },
  {
   "cell_type": "code",
   "execution_count": 9,
   "id": "73fd3f40",
   "metadata": {},
   "outputs": [],
   "source": [
    "full_dataset['main_genre'] = full_dataset.genre.str.extract(r\"([a-zA-Z]+)\")[0]\n",
    "proper_genres = np.array(full_dataset['main_genre'].value_counts()[full_dataset['main_genre'].value_counts()>=500].index)\n",
    "full_dataset['main_genre'] = full_dataset['main_genre'].apply(lambda x: 'Other' if x not in proper_genres else x)\n",
    "full_dataset = full_dataset.drop(['genre'], axis=1)"
   ]
  },
  {
   "cell_type": "markdown",
   "id": "11896baf",
   "metadata": {},
   "source": [
    "Columns 'director' and 'writer' also will be dropped as they include lots of different velues which can not be compared. We will leave the feature 'production company', because we suppose, that production company more informative and influence both on writer and director who works with this film. Also more famous production company can be more attractive for viewers. In order to compare companies, we will split them into 4 categories:\n",
    "- very famous (presented more than 500 times in the dataset);\n",
    "- famous (presented more than 100 and less than500 times in the dataset);\n",
    "- not very famous (presented more than 20 and less than 100 times in the dataset);\n",
    "- not famous (presented less than 20 times in the dataset)."
   ]
  },
  {
   "cell_type": "code",
   "execution_count": 10,
   "id": "be98d6f4",
   "metadata": {},
   "outputs": [],
   "source": [
    "full_dataset['production_company_popularity'] = full_dataset['production_company']\n",
    "\n",
    "proper_companies = np.array(full_dataset['production_company'].value_counts()[full_dataset['production_company'].value_counts()>=500].index)\n",
    "full_dataset['production_company_popularity'] = full_dataset['production_company_popularity'].apply(lambda x: 'very famous' if x in proper_companies else x)\n",
    "\n",
    "\n",
    "proper_companies_fam = np.array(full_dataset['production_company'].value_counts()[(full_dataset['production_company'].value_counts()<500) & (full_dataset['production_company'].value_counts()>=100)].index)\n",
    "full_dataset['production_company_popularity'] = full_dataset['production_company_popularity'].apply(lambda x: 'famous' if x in proper_companies_fam else x)\n",
    "\n",
    "proper_companies_not_very_fam = np.array(full_dataset['production_company'].value_counts()[(full_dataset['production_company'].value_counts()<100) & (full_dataset['production_company'].value_counts()>=20)].index)\n",
    "full_dataset['production_company_popularity'] = full_dataset['production_company_popularity'].apply(lambda x: 'not very famous' if x in proper_companies_not_very_fam else x)\n",
    "\n",
    "proper_companies_not_fam = np.array(full_dataset['production_company'].value_counts()[full_dataset['production_company'].value_counts()<20].index)\n",
    "full_dataset['production_company_popularity'] = full_dataset['production_company_popularity'].apply(lambda x: 'not famous' if x in proper_companies_not_fam else x)"
   ]
  },
  {
   "cell_type": "code",
   "execution_count": 11,
   "id": "5e35a7e3",
   "metadata": {},
   "outputs": [],
   "source": [
    "full_dataset = full_dataset.drop(['director', 'writer', 'production_company'], axis=1)"
   ]
  },
  {
   "cell_type": "code",
   "execution_count": 12,
   "id": "071d8637",
   "metadata": {},
   "outputs": [
    {
     "data": {
      "text/plain": [
       "array(['not famous', 'not very famous', 'famous', nan, 'very famous'],\n",
       "      dtype=object)"
      ]
     },
     "execution_count": 12,
     "metadata": {},
     "output_type": "execute_result"
    }
   ],
   "source": [
    "full_dataset['production_company_popularity'].unique()"
   ]
  },
  {
   "cell_type": "markdown",
   "id": "0afc128e",
   "metadata": {},
   "source": [
    "There are so many unique values in the column 'country', because some values include few countries. We will extract only the fist one country in order to have few categories for this feature. Only countries which repeated more than 1000 times would be left. Other countries will be assigned to the category 'Other'. Then we can drop the column 'country'."
   ]
  },
  {
   "cell_type": "code",
   "execution_count": 13,
   "id": "f4b211ac",
   "metadata": {},
   "outputs": [],
   "source": [
    "full_dataset['main_country'] = full_dataset.country.str.extract(r\"([a-zA-Z]+)\")[0]\n",
    "proper_countries = np.array(full_dataset['main_country'].value_counts()[full_dataset['main_country'].value_counts()>=1000].index)\n",
    "full_dataset['main_country'] = full_dataset['main_country'].apply(lambda x: 'Other' if x not in proper_countries else x)\n",
    "full_dataset = full_dataset.drop(['country'], axis=1)"
   ]
  },
  {
   "cell_type": "markdown",
   "id": "077aa891",
   "metadata": {},
   "source": [
    "For the same reasons we will extract one actor from the feature 'actors' and split the extrected values into 4 categories:\n",
    "- very famous (presented more than 50 times in the dataset);\n",
    "- famous (presented more than 20 and less than 50 times in the dataset);\n",
    "- not very famous (presented more than 3 and less than 20 times in the dataset);\n",
    "- not famous (presented less than 3 times in the dataset)."
   ]
  },
  {
   "cell_type": "code",
   "execution_count": 14,
   "id": "f4037159",
   "metadata": {},
   "outputs": [],
   "source": [
    "full_dataset['main_actor'] = full_dataset.actors.str.extract(r\"([^,]+)(\\,)\")[0]\n",
    "full_dataset['main_actor_popularity'] = full_dataset['main_actor']\n",
    "\n",
    "proper_actors_very_fam = np.array(full_dataset['main_actor'].value_counts()[full_dataset['main_actor'].value_counts()>=50].index)\n",
    "full_dataset['main_actor_popularity'] = full_dataset['main_actor_popularity'].apply(lambda x: 'very famous' if x in proper_actors_very_fam else x)\n",
    "\n",
    "proper_actors_fam = np.array(full_dataset['main_actor'].value_counts()[(full_dataset['main_actor'].value_counts()<50) & (full_dataset['main_actor'].value_counts()>=20)].index)\n",
    "full_dataset['main_actor_popularity'] = full_dataset['main_actor_popularity'].apply(lambda x: 'famous' if x in proper_actors_fam else x)\n",
    "\n",
    "proper_actors_not_very_fam = np.array(full_dataset['main_actor'].value_counts()[(full_dataset['main_actor'].value_counts()<20) & (full_dataset['main_actor'].value_counts()>=3)].index)\n",
    "full_dataset['main_actor_popularity'] = full_dataset['main_actor_popularity'].apply(lambda x: 'not very famous' if x in proper_actors_not_very_fam else x)\n",
    "\n",
    "proper_actors_not_fam = np.array(full_dataset['main_actor'].value_counts()[full_dataset['main_actor'].value_counts()<3].index)\n",
    "full_dataset['main_actor_popularity'] = full_dataset['main_actor_popularity'].apply(lambda x: 'not famous' if x in proper_actors_not_fam else x)"
   ]
  },
  {
   "cell_type": "code",
   "execution_count": 15,
   "id": "cc01e157",
   "metadata": {},
   "outputs": [],
   "source": [
    "full_dataset = full_dataset.drop(['actors', 'main_actor'], axis=1)"
   ]
  },
  {
   "cell_type": "markdown",
   "id": "a0b0aa7f",
   "metadata": {},
   "source": [
    "Then null values in the dataset ca be explored. Let us evaluate the percentage of the null values in each feature:"
   ]
  },
  {
   "cell_type": "code",
   "execution_count": 16,
   "id": "fe17a0db",
   "metadata": {},
   "outputs": [
    {
     "data": {
      "text/plain": [
       "year                              0.00\n",
       "duration                          0.00\n",
       "avg_vote                          0.00\n",
       "votes                             0.00\n",
       "budget                           72.06\n",
       "usa_gross_income                 80.25\n",
       "worlwide_gross_income            68.21\n",
       "metascore                        85.36\n",
       "reviews_from_users                6.76\n",
       "reviews_from_critics             13.67\n",
       "success_level                     0.00\n",
       "title_length                      0.00\n",
       "main_genre                        0.00\n",
       "production_company_popularity     4.56\n",
       "main_country                      0.00\n",
       "main_actor_popularity             0.15\n",
       "dtype: float64"
      ]
     },
     "execution_count": 16,
     "metadata": {},
     "output_type": "execute_result"
    }
   ],
   "source": [
    "(full_dataset .isna().sum() / len(full_dataset )).round(4) * 100"
   ]
  },
  {
   "cell_type": "markdown",
   "id": "6f7d5d94",
   "metadata": {},
   "source": [
    "We can illustrate fullness of each column by bar chart: "
   ]
  },
  {
   "cell_type": "code",
   "execution_count": 17,
   "id": "a267bb38",
   "metadata": {},
   "outputs": [
    {
     "data": {
      "text/plain": [
       "<AxesSubplot:>"
      ]
     },
     "execution_count": 17,
     "metadata": {},
     "output_type": "execute_result"
    },
    {
     "data": {
      "image/png": "[encoded data removed]",
      "text/plain": [
       "<Figure size 2500x1000 with 3 Axes>"
      ]
     },
     "metadata": {},
     "output_type": "display_data"
    }
   ],
   "source": [
    "import missingno as msno\n",
    "msno.bar(full_dataset)"
   ]
  },
  {
   "cell_type": "markdown",
   "id": "fbe7d0a9",
   "metadata": {},
   "source": [
    "As far as we can see, the least informative are columns 'usa_gross_income' and 'metascore', they include more than 80% of null values. So, we will drop these columns. "
   ]
  },
  {
   "cell_type": "code",
   "execution_count": 18,
   "id": "23c270a7",
   "metadata": {},
   "outputs": [],
   "source": [
    "full_dataset = full_dataset.drop(['usa_gross_income', 'metascore'], axis=1)"
   ]
  },
  {
   "cell_type": "markdown",
   "id": "a705a17b",
   "metadata": {},
   "source": [
    "The null values in the columns 'main_actor_popularity' and 'production_company_popularity' will be replaced with the most frequent values."
   ]
  },
  {
   "cell_type": "code",
   "execution_count": 19,
   "id": "b5e900e4",
   "metadata": {},
   "outputs": [],
   "source": [
    "full_dataset['production_company_popularity'] = full_dataset['production_company_popularity'].replace([None, np.nan, ''], None)\n",
    "most_frequent_number = full_dataset['production_company_popularity'].mode()[0]          \n",
    "full_dataset['production_company_popularity'].fillna(most_frequent_number, inplace = True)"
   ]
  },
  {
   "cell_type": "code",
   "execution_count": 20,
   "id": "bb66d553",
   "metadata": {},
   "outputs": [],
   "source": [
    "most_frequent = full_dataset['main_actor_popularity'].mode()[0]     \n",
    "full_dataset['main_actor_popularity'].fillna(most_frequent, inplace = True)"
   ]
  },
  {
   "cell_type": "markdown",
   "id": "f892cd01",
   "metadata": {},
   "source": [
    "Then we will explore what kind of the data is presented in the dataset."
   ]
  },
  {
   "cell_type": "code",
   "execution_count": 21,
   "id": "e2661325",
   "metadata": {},
   "outputs": [
    {
     "data": {
      "text/plain": [
       "year                               int64\n",
       "duration                           int64\n",
       "avg_vote                         float64\n",
       "votes                              int64\n",
       "budget                            object\n",
       "worlwide_gross_income             object\n",
       "reviews_from_users               float64\n",
       "reviews_from_critics             float64\n",
       "success_level                     object\n",
       "title_length                       int64\n",
       "main_genre                        object\n",
       "production_company_popularity     object\n",
       "main_country                      object\n",
       "main_actor_popularity             object\n",
       "dtype: object"
      ]
     },
     "execution_count": 21,
     "metadata": {},
     "output_type": "execute_result"
    }
   ],
   "source": [
    "full_dataset.dtypes"
   ]
  },
  {
   "cell_type": "markdown",
   "id": "1c17bc6b",
   "metadata": {},
   "source": [
    "Colunbs 'budget' and 'worlwide_gross_income' will be transformed to the numeric."
   ]
  },
  {
   "cell_type": "code",
   "execution_count": 22,
   "id": "6dfdb3e7",
   "metadata": {},
   "outputs": [],
   "source": [
    "full_dataset['budget'] = full_dataset.budget.str.extract(r\"(\\d+)\")[0]\n",
    "full_dataset['worlwide_gross_income'] = full_dataset.worlwide_gross_income.str.extract(r\"(\\d+)\")[0]\n",
    "convert_dict = {'budget': float,\n",
    "                'worlwide_gross_income': float\n",
    "                }\n",
    " \n",
    "full_dataset = full_dataset.astype(convert_dict)"
   ]
  },
  {
   "cell_type": "markdown",
   "id": "cb67e6c9",
   "metadata": {},
   "source": [
    "As a result, we will create a list of categorical columns. For all of them we will use one hot ecnoding. Also we will create a list of numeric columns, for them a standard scaler will be applied."
   ]
  },
  {
   "cell_type": "code",
   "execution_count": 23,
   "id": "68ac0ee1",
   "metadata": {},
   "outputs": [],
   "source": [
    "categ_columns = ['main_genre', 'production_company_popularity', 'main_country', 'main_actor_popularity']\n",
    "num_cols = ['year','duration','votes','title_length']"
   ]
  },
  {
   "cell_type": "markdown",
   "id": "2d16175d",
   "metadata": {},
   "source": [
    "In order to fill in missing values in the columns 'budget', 'worlwide_gross_income', 'reviews_from_users', 'reviews_from_critics' we will use MeanGroupImputer. This function will return mean value in each group. Each feature will be group according to the popularity of the production company, as it influence these fatures more then other indicators. "
   ]
  },
  {
   "cell_type": "code",
   "execution_count": 24,
   "id": "b422bdc0",
   "metadata": {},
   "outputs": [],
   "source": [
    "from sklearn.base import BaseEstimator, TransformerMixin\n",
    "class MeanGroupImputer(BaseEstimator, TransformerMixin):\n",
    "    '''\n",
    "    Class used for imputing missing values in a pd.DataFrame using mean value within group\n",
    "    \n",
    "    Parameters\n",
    "    ----------    \n",
    "    group_cols : str\n",
    "        A column used to calculate the mean values\n",
    "    Returns\n",
    "    -------\n",
    "    X : array-like\n",
    "        The array with imputed values in the target column\n",
    "    '''\n",
    "    def __init__(self, group_col):\n",
    "        assert type(group_col) == str, 'group_col should be a string'\n",
    "\n",
    "        self.group_col = group_col\n",
    "    \n",
    "    def fit(self, X, y=None):\n",
    "        assert X[self.group_col].isna().sum() == 0, 'There are missing values in the group_col'\n",
    "        \n",
    "        # Group dataset by `group_col` and calculate mean value of all the other columns within this group\n",
    "        self.mapping = X.groupby(self.group_col).mean()\n",
    "        return self \n",
    "    \n",
    "    def transform(self, X, y=None):\n",
    "        X = X.copy()\n",
    "        # make sure that the imputer was fitted\n",
    "        assert self.mapping is not None\n",
    "        \n",
    "        \n",
    "        \n",
    "        # loop over all the groups\n",
    "        for index, row in self.mapping.iterrows():\n",
    "            \n",
    "            # Fill in missing values for the group `index` with the values `row`            \n",
    "            try:\n",
    "                indexes = list(X.groupby(self.group_col).groups[index])\n",
    "                for el in list(row.index):\n",
    "                    for i in indexes:\n",
    "                        if pd.isnull(X[el][i]):\n",
    "                            X.at[i, el] = row[el]\n",
    "            except KeyError:\n",
    "                continue\n",
    "        \n",
    "        # Then drop grouping column (we did not transform it, so it is not needed anymore)\n",
    "        X.drop(self.group_col, axis=1, inplace=True)\n",
    "        return X.values"
   ]
  },
  {
   "cell_type": "code",
   "execution_count": 25,
   "id": "b43025f7",
   "metadata": {},
   "outputs": [],
   "source": [
    "from sklearn.impute import SimpleImputer\n",
    "from sklearn.compose import ColumnTransformer\n",
    "from sklearn.preprocessing import OneHotEncoder, StandardScaler\n",
    "from sklearn.pipeline import make_pipeline\n",
    "\n",
    "mean_group_pipe = make_pipeline(MeanGroupImputer('production_company_popularity'),\n",
    "                     StandardScaler())\n",
    "num_pipe = make_pipeline (StandardScaler())\n",
    "categ_pipe = make_pipeline (OneHotEncoder())\n",
    "\n",
    "# Combine all three pipelines in one column transformer\n",
    "column_transformer = ColumnTransformer([\n",
    "    ('reviews_from_users', mean_group_pipe, ['reviews_from_users', 'production_company_popularity']),\n",
    "    ('reviews_from_critics', mean_group_pipe, ['reviews_from_critics', 'production_company_popularity']),\n",
    "    ('budget', mean_group_pipe, ['budget', 'production_company_popularity']),\n",
    "    ('worlwide_gross_income', mean_group_pipe, ['worlwide_gross_income', 'production_company_popularity']),\n",
    "    ('scaling', num_pipe, num_cols), \n",
    "    ('OHE', categ_pipe, categ_columns)],\n",
    "remainder='passthrough')"
   ]
  },
  {
   "cell_type": "markdown",
   "id": "f3d6401b",
   "metadata": {},
   "source": [
    "### Split data into train and test"
   ]
  },
  {
   "cell_type": "code",
   "execution_count": 26,
   "id": "0b4b17d0",
   "metadata": {},
   "outputs": [],
   "source": [
    "from sklearn.model_selection import train_test_split\n",
    "\n",
    "tr, te = train_test_split(full_dataset, test_size=0.2, random_state=42)\n",
    "\n",
    "y_train = tr.success_level\n",
    "y_test = te.success_level\n",
    "X_train = tr.drop(['avg_vote', 'success_level'], axis=1)\n",
    "X_test = te.drop(['avg_vote', 'success_level'], axis=1)"
   ]
  },
  {
   "cell_type": "markdown",
   "id": "21c5dd7e",
   "metadata": {},
   "source": [
    "## Train the models"
   ]
  },
  {
   "cell_type": "markdown",
   "id": "c5114949",
   "metadata": {},
   "source": [
    "The first one model - logistic regression."
   ]
  },
  {
   "cell_type": "code",
   "execution_count": 53,
   "id": "6272c11d",
   "metadata": {},
   "outputs": [],
   "source": [
    "from sklearn.pipeline import Pipeline\n",
    "from sklearn.linear_model import LogisticRegression\n",
    "from sklearn.model_selection import cross_val_score\n",
    "\n",
    "log_reg_pipe = Pipeline([\n",
    "    ('transform', column_transformer),\n",
    "    ('clf', LogisticRegression(penalty='none', max_iter = 200))\n",
    "])\n",
    "\n",
    "log_reg_score = cross_val_score(log_reg_pipe, X_train, y_train, scoring='accuracy', cv=5)"
   ]
  },
  {
   "cell_type": "code",
   "execution_count": 54,
   "id": "8e0366c9",
   "metadata": {},
   "outputs": [
    {
     "name": "stdout",
     "output_type": "stream",
     "text": [
      "[0.6728613  0.66943522 0.67473007 0.66462465 0.67303499]\n"
     ]
    }
   ],
   "source": [
    "print(log_reg_score)"
   ]
  },
  {
   "cell_type": "markdown",
   "id": "cd699be7",
   "metadata": {},
   "source": [
    "The second model - SVC."
   ]
  },
  {
   "cell_type": "code",
   "execution_count": 56,
   "id": "ddb6c9e0",
   "metadata": {},
   "outputs": [],
   "source": [
    "from sklearn.svm import SVC\n",
    "\n",
    "svm_pipe = Pipeline([\n",
    "    ('transform', column_transformer),\n",
    "    ('model', SVC(kernel='linear'))\n",
    "])\n",
    "\n",
    "svm_score = cross_val_score(svm_pipe, X_train, y_train, scoring='accuracy', cv=5)"
   ]
  },
  {
   "cell_type": "code",
   "execution_count": 57,
   "id": "e8fad23a",
   "metadata": {},
   "outputs": [
    {
     "name": "stdout",
     "output_type": "stream",
     "text": [
      "[0.63372093 0.63299419 0.63091777 0.63472121 0.63679784]\n"
     ]
    }
   ],
   "source": [
    "print(svm_score)"
   ]
  },
  {
   "cell_type": "markdown",
   "id": "473f9c4e",
   "metadata": {},
   "source": [
    "The third model - DecisionTreeClassifier."
   ]
  },
  {
   "cell_type": "code",
   "execution_count": 61,
   "id": "550354ca",
   "metadata": {},
   "outputs": [],
   "source": [
    "from sklearn.tree import DecisionTreeClassifier\n",
    "from sklearn.pipeline import make_pipeline\n",
    "from sklearn.pipeline import Pipeline\n",
    "\n",
    "tree_pipe = Pipeline([\n",
    "    ('transform', column_transformer),\n",
    "    ('model', DecisionTreeClassifier())\n",
    "])\n",
    "\n",
    "\n",
    "\n",
    "tree_pipe_score = cross_val_score(tree_pipe, X_train, y_train, scoring='accuracy', cv=5)"
   ]
  },
  {
   "cell_type": "code",
   "execution_count": 62,
   "id": "e4559068",
   "metadata": {},
   "outputs": [
    {
     "data": {
      "text/plain": [
       "array([0.61949751, 0.61607143, 0.62292359, 0.61810819, 0.62060015])"
      ]
     },
     "execution_count": 62,
     "metadata": {},
     "output_type": "execute_result"
    }
   ],
   "source": [
    "tree_pipe_score"
   ]
  },
  {
   "cell_type": "markdown",
   "id": "5fb2427b",
   "metadata": {},
   "source": [
    "We will use GridSearch to tune estimators's parameters and CrossVal to compute cross validated metrics for the model with better scores - logistic regression."
   ]
  },
  {
   "cell_type": "code",
   "execution_count": 39,
   "id": "5cc338c8",
   "metadata": {},
   "outputs": [
    {
     "data": {
      "text/plain": [
       "GridSearchCV(cv=5,\n",
       "             estimator=Pipeline(steps=[('preprocess',\n",
       "                                        ColumnTransformer(remainder='passthrough',\n",
       "                                                          transformers=[('reviews_from_users',\n",
       "                                                                         Pipeline(steps=[('meangroupimputer',\n",
       "                                                                                          MeanGroupImputer(group_col='production_company_popularity')),\n",
       "                                                                                         ('standardscaler',\n",
       "                                                                                          StandardScaler())]),\n",
       "                                                                         ['reviews_from_users',\n",
       "                                                                          'production_company_popularity']),\n",
       "                                                                        ('reviews_from_critics'...\n",
       "                                                                         Pipeline(steps=[('onehotencoder',\n",
       "                                                                                          OneHotEncoder())]),\n",
       "                                                                         ['main_genre',\n",
       "                                                                          'production_company_popularity',\n",
       "                                                                          'main_country',\n",
       "                                                                          'main_actor_popularity'])])),\n",
       "                                       ('clf', 'passthrough')]),\n",
       "             param_grid=[{'clf': [LogisticRegression(C=10, max_iter=200)],\n",
       "                          'clf__C': [0.1, 1, 10], 'clf__penalty': ['l2']},\n",
       "                         {'clf': [LogisticRegression(max_iter=200)],\n",
       "                          'clf__penalty': ['none']}],\n",
       "             scoring='accuracy')"
      ]
     },
     "execution_count": 39,
     "metadata": {},
     "output_type": "execute_result"
    }
   ],
   "source": [
    "from sklearn.model_selection import GridSearchCV\n",
    "\n",
    "\n",
    "pipe = Pipeline([\n",
    "    ('preprocess', column_transformer),\n",
    "    ('clf', 'passthrough')\n",
    "])\n",
    "    \n",
    "    \n",
    "parameters = [\n",
    "    {\n",
    "        'clf':[LogisticRegression(max_iter = 200)],\n",
    "        'clf__C':[0.1, 1, 10],\n",
    "        'clf__penalty': ['l2']\n",
    "    },\n",
    "    {\n",
    "        'clf':[LogisticRegression(max_iter = 200)],\n",
    "        'clf__penalty': ['none']\n",
    "    },\n",
    "]\n",
    "    \n",
    "grid_pipe = GridSearchCV(pipe, param_grid=parameters,\n",
    "                      cv=5, \n",
    "                      scoring = 'accuracy')\n",
    "\n",
    "grid_pipe.fit(X_train, y_train)"
   ]
  },
  {
   "cell_type": "code",
   "execution_count": 40,
   "id": "6ee4779b",
   "metadata": {},
   "outputs": [
    {
     "name": "stdout",
     "output_type": "stream",
     "text": [
      "0.6707088750991314\n",
      "LogisticRegression(C=10, max_iter=200)\n"
     ]
    }
   ],
   "source": [
    "print(grid_pipe.best_score_)\n",
    "print(grid_pipe.best_estimator_.steps[1][1])"
   ]
  },
  {
   "cell_type": "code",
   "execution_count": null,
   "id": "772a6b2d",
   "metadata": {},
   "outputs": [],
   "source": []
  },
  {
   "cell_type": "markdown",
   "id": "d92185af",
   "metadata": {},
   "source": [
    "### Evaluating the best model on test\n",
    "\n",
    "Now, we can use the best estimator to evaluate model on the test dataset. "
   ]
  },
  {
   "cell_type": "code",
   "execution_count": 41,
   "id": "f5c8e83f",
   "metadata": {},
   "outputs": [
    {
     "data": {
      "text/plain": [
       "0.6714285714285714"
      ]
     },
     "execution_count": 41,
     "metadata": {},
     "output_type": "execute_result"
    }
   ],
   "source": [
    "from sklearn.metrics import accuracy_score\n",
    "\n",
    "grid_pipe.best_estimator_.fit(X_train, y_train)\n",
    "y_pred = grid_pipe.best_estimator_.predict(X_test)\n",
    "accuracy_score(y_test, y_pred)"
   ]
  },
  {
   "cell_type": "markdown",
   "id": "12b916c8",
   "metadata": {},
   "source": [
    "### Conclusion\n",
    "\n",
    "- Metric score is close to 70%. That means that model is quite accurate, its performance is not so high. It will make mistakes in 3 cases of 10. \n",
    "- Clients needs were achieved, beacuse model can be helpful in predicting success level of the film. \n",
    "- Better performence of the model can be achieved if the information in such columns as 'genre' and 'actors' contained the initially selected main genre and the main actor. The model will also be improved if we take into account the description of the film and collect more data about the budget and income."
   ]
  },
  {
   "cell_type": "code",
   "execution_count": null,
   "id": "93c0bea3",
   "metadata": {},
   "outputs": [],
   "source": []
  }
 ],
 "metadata": {
  "kernelspec": {
   "display_name": "Python 3 (ipykernel)",
   "language": "python",
   "name": "python3"
  },
  "language_info": {
   "codemirror_mode": {
    "name": "ipython",
    "version": 3
   },
   "file_extension": ".py",
   "mimetype": "text/x-python",
   "name": "python",
   "nbconvert_exporter": "python",
   "pygments_lexer": "ipython3",
   "version": "3.9.13"
  }
 },
 "nbformat": 4,
 "nbformat_minor": 5
}
